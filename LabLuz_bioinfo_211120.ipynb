{
  "nbformat": 4,
  "nbformat_minor": 0,
  "metadata": {
    "colab": {
      "provenance": [],
      "include_colab_link": true
    },
    "kernelspec": {
      "display_name": "Python 3",
      "name": "python3"
    }
  },
  "cells": [
    {
      "cell_type": "markdown",
      "metadata": {
        "id": "view-in-github",
        "colab_type": "text"
      },
      "source": [
        "<a href=\"https://colab.research.google.com/github/allyssonallan/LabLuz_bioinfo_class_2020/blob/main/LabLuz_bioinfo_211120.ipynb\" target=\"_parent\"><img src=\"https://colab.research.google.com/assets/colab-badge.svg\" alt=\"Open In Colab\"/></a>"
      ]
    },
    {
      "cell_type": "markdown",
      "metadata": {
        "id": "JyG45Qk3qQLS"
      },
      "source": [
        "# Células\n",
        "\n",
        "Um notebook é uma lista de células. As células contem tanto um texto explicativo como um código executável e seu output. Clique numa célula para interagir."
      ]
    },
    {
      "cell_type": "markdown",
      "metadata": {
        "id": "KR921S_OQSHG"
      },
      "source": [
        "## Células de código\n",
        "Abaixo é uma **célula de código**. Uma vez que está indicado no botao da barra de ferramentas que está conectado, você poderá clicar na célula para selecioná-la, click na célula para selecioná-la e executa-la.\n",
        "\n",
        "Clique no botão **play** na parte esquerda da célula para executa-la.\n"
      ]
    },
    {
      "cell_type": "code",
      "metadata": {
        "cellView": "both",
        "colab": {
          "base_uri": "https://localhost:8080/"
        },
        "id": "WUtu4316QSHL",
        "outputId": "3a2fae7f-6c1d-42d3-ebba-3563f0d0075d"
      },
      "source": [
        "a = 30\n",
        "a"
      ],
      "execution_count": null,
      "outputs": [
        {
          "output_type": "execute_result",
          "data": {
            "text/plain": [
              "30"
            ]
          },
          "metadata": {
            "tags": []
          },
          "execution_count": 4
        }
      ]
    },
    {
      "cell_type": "markdown",
      "metadata": {
        "id": "Id6tDF1HQSHD"
      },
      "source": [
        "## Texto das células\n",
        "Essa é uma **célula texto**. Você poderá dar um clique duplo para editar essa célula. Os textos são apresentados com a sintaxe markdown. [guia markdown em inglês](/notebooks/markdown_guide.ipynb).\n",
        "\n",
        "Você também poderá fazer inclusão de equações usando a linguagem LaTex. [LaTeX](http://www.latex-project.org/)\n",
        "sendo renderizada por [MathJax](https://www.mathjax.org). É só colocar um par de sinais **\\$** no início e no final da equação. Por exemplo: `$\\sqrt{3x-1}+(1+x)^2$` traduz-se em\n",
        "$\\sqrt{3x-1}+(1+x)^2.$\n"
      ]
    },
    {
      "cell_type": "markdown",
      "metadata": {
        "id": "7bqjkGKwQSHW"
      },
      "source": [
        "## Adicionando e movendo células\n",
        "\n",
        "Você poderá adicionar novas células com os botões **+ Código** e **+ Texto** que são mostrados quando você clica uma vez sobre as células. Os comandos que esses botões apresentam também podem ser encontrados na barra de ferramentas, no menu Inserir. Se você clicar uma célula será adicionada abaixo.\n",
        "\n",
        "Voce pode mover a célula selecionando-a e clicando na **setinha para cima** ou na **setinha para baixo** ao clicar na célula.\n",
        "\n",
        "Células consecutivas podem ser selecionadas clicando fora de uma delas e passando o cursor por cima das células que você tem interesse em selecionar. Shift também funciona.\n"
      ]
    },
    {
      "cell_type": "code",
      "metadata": {
        "id": "OXGSUk1OAaOp"
      },
      "source": [
        "ok"
      ],
      "execution_count": null,
      "outputs": []
    },
    {
      "cell_type": "code",
      "metadata": {
        "id": "oR4ZSm0YwJsJ"
      },
      "source": [
        "oi"
      ],
      "execution_count": null,
      "outputs": []
    },
    {
      "cell_type": "markdown",
      "metadata": {
        "id": "GOwlZRXEQSHZ"
      },
      "source": [
        "## Trabalhando com python"
      ]
    },
    {
      "cell_type": "markdown",
      "metadata": {
        "id": "RVuqWUXPQSHa"
      },
      "source": [
        "Processos longos do python podem ser interrompidos clicando no botão STOP. Ou ainda utilizando as teclas *crtl+M I*."
      ]
    },
    {
      "cell_type": "code",
      "metadata": {
        "cellView": "both",
        "id": "d-S-3nYLQSHb",
        "colab": {
          "base_uri": "https://localhost:8080/",
          "height": 237
        },
        "outputId": "999bb3cc-c5b6-4495-f651-a9c657424a8c"
      },
      "source": [
        "import time\n",
        "print(\"Dormindo\")\n",
        "time.sleep(30) # dormindo por um tempo; me interrompa!\n",
        "print(\"Cochilo realizado com sucesso\")"
      ],
      "execution_count": null,
      "outputs": [
        {
          "output_type": "stream",
          "text": [
            "Dormindo\n"
          ],
          "name": "stdout"
        },
        {
          "output_type": "error",
          "ename": "KeyboardInterrupt",
          "evalue": "ignored",
          "traceback": [
            "\u001b[0;31m---------------------------------------------------------------------------\u001b[0m",
            "\u001b[0;31mKeyboardInterrupt\u001b[0m                         Traceback (most recent call last)",
            "\u001b[0;32m<ipython-input-9-399affcece2b>\u001b[0m in \u001b[0;36m<module>\u001b[0;34m()\u001b[0m\n\u001b[1;32m      1\u001b[0m \u001b[0;32mimport\u001b[0m \u001b[0mtime\u001b[0m\u001b[0;34m\u001b[0m\u001b[0;34m\u001b[0m\u001b[0m\n\u001b[1;32m      2\u001b[0m \u001b[0mprint\u001b[0m\u001b[0;34m(\u001b[0m\u001b[0;34m\"Dormindo\"\u001b[0m\u001b[0;34m)\u001b[0m\u001b[0;34m\u001b[0m\u001b[0;34m\u001b[0m\u001b[0m\n\u001b[0;32m----> 3\u001b[0;31m \u001b[0mtime\u001b[0m\u001b[0;34m.\u001b[0m\u001b[0msleep\u001b[0m\u001b[0;34m(\u001b[0m\u001b[0;36m30\u001b[0m\u001b[0;34m)\u001b[0m \u001b[0;31m# dormindo por um tempo; me interrompa!\u001b[0m\u001b[0;34m\u001b[0m\u001b[0;34m\u001b[0m\u001b[0m\n\u001b[0m\u001b[1;32m      4\u001b[0m \u001b[0mprint\u001b[0m\u001b[0;34m(\u001b[0m\u001b[0;34m\"Cochilo realizado com sucesso\"\u001b[0m\u001b[0;34m)\u001b[0m\u001b[0;34m\u001b[0m\u001b[0;34m\u001b[0m\u001b[0m\n",
            "\u001b[0;31mKeyboardInterrupt\u001b[0m: "
          ]
        }
      ]
    },
    {
      "cell_type": "markdown",
      "metadata": {
        "id": "Wej_mEyXQSHc"
      },
      "source": [
        "##**Comandos**\n",
        "\n",
        "Comandos que podem ser utilizados no Google Colab\n",
        "como ls:"
      ]
    },
    {
      "cell_type": "code",
      "metadata": {
        "cellView": "both",
        "id": "5OCYEvK5QSHf",
        "colab": {
          "base_uri": "https://localhost:8080/"
        },
        "outputId": "ced0deed-d692-4473-ea38-e00eec50c2aa"
      },
      "source": [
        "!ls /bin"
      ],
      "execution_count": null,
      "outputs": [
        {
          "output_type": "stream",
          "text": [
            "bash\t       hostname       su\n",
            "bunzip2        journalctl     sync\n",
            "bzcat\t       kill\t      systemctl\n",
            "bzcmp\t       kmod\t      systemd\n",
            "bzdiff\t       less\t      systemd-ask-password\n",
            "bzegrep        lessecho       systemd-escape\n",
            "bzexe\t       lessfile       systemd-hwdb\n",
            "bzfgrep        lesskey\t      systemd-inhibit\n",
            "bzgrep\t       lesspipe       systemd-machine-id-setup\n",
            "bzip2\t       ln\t      systemd-notify\n",
            "bzip2recover   login\t      systemd-sysusers\n",
            "bzless\t       loginctl       systemd-tmpfiles\n",
            "bzmore\t       ls\t      systemd-tty-ask-password-agent\n",
            "cat\t       lsblk\t      tar\n",
            "chgrp\t       lsmod\t      tempfile\n",
            "chmod\t       mkdir\t      touch\n",
            "chown\t       mknod\t      true\n",
            "cp\t       mktemp\t      udevadm\n",
            "dash\t       more\t      ulockmgr_server\n",
            "date\t       mount\t      umount\n",
            "dd\t       mountpoint     uname\n",
            "df\t       mv\t      uncompress\n",
            "dir\t       networkctl     vdir\n",
            "dmesg\t       nisdomainname  wdctl\n",
            "dnsdomainname  pidof\t      which\n",
            "domainname     ps\t      ypdomainname\n",
            "echo\t       pwd\t      zcat\n",
            "egrep\t       rbash\t      zcmp\n",
            "false\t       readlink       zdiff\n",
            "fgrep\t       rm\t      zegrep\n",
            "findmnt        rmdir\t      zfgrep\n",
            "fuser\t       run-parts      zforce\n",
            "fusermount     sed\t      zgrep\n",
            "grep\t       sh\t      zless\n",
            "gunzip\t       sh.distrib     zmore\n",
            "gzexe\t       sleep\t      znew\n",
            "gzip\t       stty\n"
          ],
          "name": "stdout"
        }
      ]
    },
    {
      "cell_type": "markdown",
      "metadata": {
        "id": "y8Da6JWKQSHh"
      },
      "source": [
        "O `!ls` provavelmente gerará um grande output para fechar você pode clicar no x.\n",
        "\n",
        "1. Clicando no botão (x) ; ou\n",
        "2. Clicando com o botão direito e clicar em limpar saída.\n",
        "\n",
        "Execute quaisquer outros processos usando `!` na frente, note que o resultado será carregado para uma variável:"
      ]
    },
    {
      "cell_type": "code",
      "metadata": {
        "cellView": "both",
        "colab": {
          "base_uri": "https://localhost:8080/"
        },
        "id": "zqGrv0blQSHj",
        "outputId": "36c38f74-4510-4c1d-d307-0212a9da6be2"
      },
      "source": [
        "message = 'Colaboratory é ótimo!'\n",
        "foo = !echo -e '$message\\n$message'\n",
        "foo"
      ],
      "execution_count": null,
      "outputs": [
        {
          "output_type": "execute_result",
          "data": {
            "text/plain": [
              "['Colaboratory é ótimo!', 'Colaboratory é ótimo!']"
            ]
          },
          "metadata": {
            "tags": []
          },
          "execution_count": 30
        }
      ]
    },
    {
      "cell_type": "markdown",
      "metadata": {
        "id": "qM4myQGfQboQ"
      },
      "source": [
        "## Mágica\n",
        "No google colab podemos trabalhar tanto com o python, quanto com o bash e com o html. Por exemplo:"
      ]
    },
    {
      "cell_type": "code",
      "metadata": {
        "cellView": "both",
        "id": "odfM-_GxWbCy",
        "colab": {
          "base_uri": "https://localhost:8080/",
          "height": 35
        },
        "outputId": "e92c9ad3-8c84-4b7d-c344-6b37bedc682b"
      },
      "source": [
        "%%html\n",
        "<marquee style='width: 50%; color: red;'><i>Prof Alessandro bem-vindo!</i></marquee>"
      ],
      "execution_count": null,
      "outputs": [
        {
          "output_type": "display_data",
          "data": {
            "text/html": [
              "<marquee style='width: 50%; color: red;'><i>Prof Alessandro bem-vindo!</i></marquee>"
            ],
            "text/plain": [
              "<IPython.core.display.HTML object>"
            ]
          },
          "metadata": {
            "tags": []
          }
        }
      ]
    },
    {
      "cell_type": "code",
      "metadata": {
        "id": "_YrTcK7k22Fp",
        "colab": {
          "base_uri": "https://localhost:8080/",
          "height": 221
        },
        "outputId": "c8700109-5bbe-423a-b5de-02009dba9341"
      },
      "source": [
        "%%html\n",
        "<svg xmlns=\"http://www.w3.org/2000/svg\" viewBox=\"0 0 450 400\" width=\"200\" height=\"200\">\n",
        "  <rect x=\"80\" y=\"60\" width=\"500\" height=\"500\" rx=\"20\" style=\"fill:blue; stroke:black; fill-opacity:0.7\" />\n",
        "  <rect x=\"180\" y=\"110\" width=\"100\" height=\"150\" rx=\"40\" style=\"fill:green; stroke:black; fill-opacity:0.5;\" />\n",
        "</svg>"
      ],
      "execution_count": null,
      "outputs": [
        {
          "output_type": "display_data",
          "data": {
            "text/html": [
              "<svg xmlns=\"http://www.w3.org/2000/svg\" viewBox=\"0 0 450 400\" width=\"200\" height=\"200\">\n",
              "  <rect x=\"80\" y=\"60\" width=\"500\" height=\"500\" rx=\"20\" style=\"fill:blue; stroke:black; fill-opacity:0.7\" />\n",
              "  <rect x=\"180\" y=\"110\" width=\"100\" height=\"150\" rx=\"40\" style=\"fill:green; stroke:black; fill-opacity:0.5;\" />\n",
              "</svg>"
            ],
            "text/plain": [
              "<IPython.core.display.HTML object>"
            ]
          },
          "metadata": {
            "tags": []
          }
        }
      ]
    },
    {
      "cell_type": "markdown",
      "metadata": {
        "id": "d4L9TOP9QSHn"
      },
      "source": [
        "### Completar o comando por tab e explorar o código\n",
        "\n",
        "Assim como outras linguagens o Colab apresenta a função de completar as sentenças.  Por exemplo, utilizando objetos python podemos explorar seus atributos, bem como ver rapidamente a documentação por trás da função. Primeiro clique em executar o codigo para importar o módulo [`numpy`](http://www.numpy.org) frequentemente utilizado em ciências de dados e bioinformática."
      ]
    },
    {
      "cell_type": "code",
      "metadata": {
        "cellView": "both",
        "id": "Q0JKWcmtQSHp"
      },
      "source": [
        "import numpy as np"
      ],
      "execution_count": null,
      "outputs": []
    },
    {
      "cell_type": "markdown",
      "metadata": {
        "id": "1M890-bXeyYp"
      },
      "source": [
        "Agora você pode colocar seu cursor após o ``np.random.`` e pressionar **Tab**, você verá uma lista de funções disponíveis dentro do submódulo ``np.random`` ."
      ]
    },
    {
      "cell_type": "code",
      "metadata": {
        "cellView": "both",
        "id": "j6QRIfUHQSHq"
      },
      "source": [
        "np.random."
      ],
      "execution_count": null,
      "outputs": []
    },
    {
      "cell_type": "markdown",
      "metadata": {
        "id": "g6MfomFhQSHs"
      },
      "source": [
        "Se você digitar um parenteses aberto seguido de **Tab** depois de qualquer função ou classe no módulo, você verá uma janela pop-up de sua documentação."
      ]
    },
    {
      "cell_type": "code",
      "metadata": {
        "cellView": "both",
        "id": "SD0XnrVhQSHt",
        "colab": {
          "base_uri": "https://localhost:8080/"
        },
        "outputId": "2ccbf123-d668-45bb-a35d-b4a33cfb2af5"
      },
      "source": [
        "np.random.rand()"
      ],
      "execution_count": null,
      "outputs": [
        {
          "output_type": "execute_result",
          "data": {
            "text/plain": [
              "0.34558967161064025"
            ]
          },
          "metadata": {
            "tags": []
          },
          "execution_count": 40
        }
      ]
    },
    {
      "cell_type": "markdown",
      "metadata": {
        "id": "9ReRLQaxJ-zP"
      },
      "source": [
        "To open the documentation in a persistent pane at the bottom of your screen, add a **?** after the object or method name and execute the cell using **Shift+Enter**:"
      ]
    },
    {
      "cell_type": "code",
      "metadata": {
        "cellView": "both",
        "id": "YgQ6Tu7DK17l"
      },
      "source": [
        "np.random?"
      ],
      "execution_count": null,
      "outputs": []
    },
    {
      "cell_type": "markdown",
      "metadata": {
        "id": "TYTBdJXxfqiJ"
      },
      "source": [
        "## Formatação de erros"
      ]
    },
    {
      "cell_type": "markdown",
      "metadata": {
        "id": "4bqAVK-aQSHx"
      },
      "source": [
        "O colab indica onde está o erro e porque a divisão está errada."
      ]
    },
    {
      "cell_type": "code",
      "metadata": {
        "cellView": "both",
        "id": "CrJf1PEmQSHx",
        "colab": {
          "base_uri": "https://localhost:8080/",
          "height": 202
        },
        "outputId": "23e1620d-bcc7-4c16-e259-ea8bc5a72893"
      },
      "source": [
        "x = 1\n",
        "y = 4\n",
        "z = y/(1-x)"
      ],
      "execution_count": null,
      "outputs": [
        {
          "output_type": "error",
          "ename": "ZeroDivisionError",
          "evalue": "ignored",
          "traceback": [
            "\u001b[0;31m---------------------------------------------------------------------------\u001b[0m",
            "\u001b[0;31mZeroDivisionError\u001b[0m                         Traceback (most recent call last)",
            "\u001b[0;32m<ipython-input-43-d93e730d8440>\u001b[0m in \u001b[0;36m<module>\u001b[0;34m()\u001b[0m\n\u001b[1;32m      1\u001b[0m \u001b[0mx\u001b[0m \u001b[0;34m=\u001b[0m \u001b[0;36m1\u001b[0m\u001b[0;34m\u001b[0m\u001b[0;34m\u001b[0m\u001b[0m\n\u001b[1;32m      2\u001b[0m \u001b[0my\u001b[0m \u001b[0;34m=\u001b[0m \u001b[0;36m4\u001b[0m\u001b[0;34m\u001b[0m\u001b[0;34m\u001b[0m\u001b[0m\n\u001b[0;32m----> 3\u001b[0;31m \u001b[0mz\u001b[0m \u001b[0;34m=\u001b[0m \u001b[0my\u001b[0m\u001b[0;34m/\u001b[0m\u001b[0;34m(\u001b[0m\u001b[0;36m1\u001b[0m\u001b[0;34m-\u001b[0m\u001b[0mx\u001b[0m\u001b[0;34m)\u001b[0m\u001b[0;34m\u001b[0m\u001b[0;34m\u001b[0m\u001b[0m\n\u001b[0m",
            "\u001b[0;31mZeroDivisionError\u001b[0m: division by zero"
          ]
        }
      ]
    },
    {
      "cell_type": "markdown",
      "metadata": {
        "id": "7cRnhv_7N4Pa"
      },
      "source": [
        "### Ricas e interativas saídas\n",
        "Até agora todas as saídas tem sido em formato de texto, mas elas podem ser mais interesantes como logo abaixo:\n"
      ]
    },
    {
      "cell_type": "code",
      "metadata": {
        "id": "JVXnTqyE9RET",
        "colab": {
          "base_uri": "https://localhost:8080/",
          "height": 281
        },
        "outputId": "315339d9-306f-489e-aaa7-996af19e6461"
      },
      "source": [
        "import numpy as np\n",
        "from matplotlib import pyplot as plt\n",
        "\n",
        "ys = 200 + np.random.randn(100)\n",
        "x = [x for x in range(len(ys))]\n",
        "\n",
        "plt.plot(x, ys, '-')\n",
        "plt.fill_between(x, ys, 195, where=(ys > 195), facecolor='g', alpha=0.6)\n",
        "\n",
        "plt.title(\"Exemplo\")\n",
        "plt.show()"
      ],
      "execution_count": null,
      "outputs": [
        {
          "output_type": "display_data",
          "data": {
            "image/png": "[encoded data removed]",
            "text/plain": [
              "<Figure size 432x288 with 1 Axes>"
            ]
          },
          "metadata": {
            "tags": [],
            "needs_background": "light"
          }
        }
      ]
    },
    {
      "cell_type": "markdown",
      "metadata": {
        "id": "aro-UJgUQSH1"
      },
      "source": [
        "# Integração com o google drive\n",
        "\n",
        "O Colab é integrado com o Google Drive. Permite-se compartilhar, comentar, e colaborar no mesmo documento por múltiplas pessoas e em tempo real:\n",
        "\n",
        "O botão **compartilhar** permite compartilhar o notebook e controlar as permissões.\n",
        "\n",
        "* A opção **Arquivo->Fazer uma cópia** cria uma cópia do notebook no drive.\n",
        "\n",
        "* A opção **Arquivo->Salvar** salva o arquivo no Drive. **Arquivo->Salvar e fixar revisao ** fixa a versão atual para não ser apagada pelo histórico.\n",
        "\n",
        "* A opção **Arquivo->História de revisão** mostra a história de revisão do notebook."
      ]
    },
    {
      "cell_type": "markdown",
      "metadata": {
        "id": "4hfV37gxpP_c"
      },
      "source": [
        "## Comentando na célula\n",
        "\n",
        "Você pode comentar em um notebook Colab como em qualquer outro documento google. Os comentários são adicionados às células.\n",
        "\n",
        "Se você tem uma permissão só de **comentários**, você poderá ver o botão de comentários na parte direita da célula que você clicar.\n",
        "\n",
        "Se vocẽ quiser editar ou ter permissões de comentar você pode proceder de três formas.  \n",
        "\n",
        "1. Selecione a célula e clique no botão comentar na parte direita-acima da célula.\n",
        "1. Clique com o botao direito do mouse na célula  e clique em **Adicionar comentário**.\n",
        "3. Ou use o atalho **Ctrl+Shift+M** para adicionar o comentário diretamente na célula.\n",
        "\n",
        "\n",
        "O botão comentário na parte direita superior da tela permite verificar todos os comentários deixados no notebook."
      ]
    },
    {
      "cell_type": "markdown",
      "metadata": {
        "id": "pXyRKBQr7BNH"
      },
      "source": [
        "##Exercício\n",
        "\n",
        "* Siga o tutorial para verificar se compreendeu bem a primeira parte do mini-curso\n",
        "\n",
        "Abra o https://colab.research.google.com/\n",
        "\n",
        "Clique em novo notebook\n",
        "\n",
        "Abra uma nova célula de texto e digite:\n",
        "\n",
        "# Treinamento para a próxima aula usando o google colab\n",
        "\n",
        "* 1 - Crie uma pasta chamada teste e faça o upload do arquivo `teste.txt` dentro da pasta de mesmo nome no seu google drive\n",
        "\n",
        "* 2 - Tente montar o google drive clicando no menu a direita **Arquivos** e depois clique no ícone **Montar do drive**, você verá um código parecido com:"
      ]
    },
    {
      "cell_type": "code",
      "metadata": {
        "colab": {
          "base_uri": "https://localhost:8080/"
        },
        "id": "Sts2CiCC89e0",
        "outputId": "81a3e0af-15e8-4ae5-bd5a-dabd222b144e"
      },
      "source": [
        "from google.colab import drive\n",
        "drive.mount('/content/drive')"
      ],
      "execution_count": null,
      "outputs": [
        {
          "output_type": "stream",
          "text": [
            "Drive already mounted at /content/drive; to attempt to forcibly remount, call drive.mount(\"/content/drive\", force_remount=True).\n"
          ],
          "name": "stdout"
        }
      ]
    },
    {
      "cell_type": "markdown",
      "metadata": {
        "id": "5rsb2glw_3u7"
      },
      "source": [
        "* 3 - Autorize o google drive e copie a senha de autorização no final do procedimento de autorização para cola-la na área em branca destinada a montar o drive no seu notebook\n",
        "\n",
        "* 4 - Busque o arquivo `teste.txt` uploadeado em **Arquivos -> content -> drive -> MyDrive -> teste** e verifique se o arquivo foi mesmo uploadeado\n",
        "\n",
        "* 5 - Instale no seu notebook o módulo bioinfokit e importe os pacotes analys e visuz, além dos pacotes pandas e numpy (crtl + c e crtl + v no código abaixo).\n",
        "\n"
      ]
    },
    {
      "cell_type": "code",
      "metadata": {
        "id": "es9mKG6zDZ6t",
        "colab": {
          "base_uri": "https://localhost:8080/"
        },
        "outputId": "3e57cbca-ecd8-42c3-9d20-ffe535def5a7"
      },
      "source": [
        "!pip install bioinfokit\n",
        "\n",
        "from bioinfokit import analys, visuz\n",
        "import pandas as pd\n",
        "import numpy as np"
      ],
      "execution_count": null,
      "outputs": [
        {
          "output_type": "stream",
          "text": [
            "Requirement already satisfied: bioinfokit in /usr/local/lib/python3.6/dist-packages (1.0.3)\n",
            "Requirement already satisfied: pandas in /usr/local/lib/python3.6/dist-packages (from bioinfokit) (1.1.4)\n",
            "Requirement already satisfied: scikit-learn in /usr/local/lib/python3.6/dist-packages (from bioinfokit) (0.22.2.post1)\n",
            "Requirement already satisfied: matplotlib-venn in /usr/local/lib/python3.6/dist-packages (from bioinfokit) (0.11.6)\n",
            "Requirement already satisfied: numpy in /usr/local/lib/python3.6/dist-packages (from bioinfokit) (1.18.5)\n",
            "Requirement already satisfied: matplotlib in /usr/local/lib/python3.6/dist-packages (from bioinfokit) (3.2.2)\n",
            "Requirement already satisfied: tabulate in /usr/local/lib/python3.6/dist-packages (from bioinfokit) (0.8.7)\n",
            "Requirement already satisfied: seaborn in /usr/local/lib/python3.6/dist-packages (from bioinfokit) (0.11.0)\n",
            "Requirement already satisfied: adjustText in /usr/local/lib/python3.6/dist-packages (from bioinfokit) (0.7.3)\n",
            "Requirement already satisfied: textwrap3 in /usr/local/lib/python3.6/dist-packages (from bioinfokit) (0.9.2)\n",
            "Requirement already satisfied: scipy in /usr/local/lib/python3.6/dist-packages (from bioinfokit) (1.4.1)\n",
            "Requirement already satisfied: statsmodels in /usr/local/lib/python3.6/dist-packages (from bioinfokit) (0.10.2)\n",
            "Requirement already satisfied: pytz>=2017.2 in /usr/local/lib/python3.6/dist-packages (from pandas->bioinfokit) (2018.9)\n",
            "Requirement already satisfied: python-dateutil>=2.7.3 in /usr/local/lib/python3.6/dist-packages (from pandas->bioinfokit) (2.8.1)\n",
            "Requirement already satisfied: joblib>=0.11 in /usr/local/lib/python3.6/dist-packages (from scikit-learn->bioinfokit) (0.17.0)\n",
            "Requirement already satisfied: cycler>=0.10 in /usr/local/lib/python3.6/dist-packages (from matplotlib->bioinfokit) (0.10.0)\n",
            "Requirement already satisfied: pyparsing!=2.0.4,!=2.1.2,!=2.1.6,>=2.0.1 in /usr/local/lib/python3.6/dist-packages (from matplotlib->bioinfokit) (2.4.7)\n",
            "Requirement already satisfied: kiwisolver>=1.0.1 in /usr/local/lib/python3.6/dist-packages (from matplotlib->bioinfokit) (1.3.1)\n",
            "Requirement already satisfied: patsy>=0.4.0 in /usr/local/lib/python3.6/dist-packages (from statsmodels->bioinfokit) (0.5.1)\n",
            "Requirement already satisfied: six>=1.5 in /usr/local/lib/python3.6/dist-packages (from python-dateutil>=2.7.3->pandas->bioinfokit) (1.15.0)\n"
          ],
          "name": "stdout"
        }
      ]
    },
    {
      "cell_type": "markdown",
      "metadata": {
        "id": "wQ3vfcpfUqI1"
      },
      "source": [
        "* 6 - Depois do programa instalado você pode prosseguir importando o `teste.txt` em formato separado por vírgulas (csv) na pasta que você acabou de criar, inserindo também o cabeçalho com a opção header = 0 que significa que a primeira linha da tabela apresenta o nome das colunas. (copie e cole no seu notebook o código abaixo)"
      ]
    },
    {
      "cell_type": "code",
      "metadata": {
        "id": "L5sx33eRENsC",
        "colab": {
          "base_uri": "https://localhost:8080/"
        },
        "outputId": "d5387217-c43e-4813-d57f-d81c55644d69"
      },
      "source": [
        "df = pd.read_csv('/content/drive/MyDrive/teste/teste.txt',header=0)\n",
        "\n",
        "df.head()"
      ],
      "execution_count": null,
      "outputs": [
        {
          "output_type": "execute_result",
          "data": {
            "text/html": [
              "<div>\n",
              "<style scoped>\n",
              "    .dataframe tbody tr th:only-of-type {\n",
              "        vertical-align: middle;\n",
              "    }\n",
              "\n",
              "    .dataframe tbody tr th {\n",
              "        vertical-align: top;\n",
              "    }\n",
              "\n",
              "    .dataframe thead th {\n",
              "        text-align: right;\n",
              "    }\n",
              "</style>\n",
              "<table border=\"1\" class=\"dataframe\">\n",
              "  <thead>\n",
              "    <tr style=\"text-align: right;\">\n",
              "      <th></th>\n",
              "      <th>CHR</th>\n",
              "      <th>SNP</th>\n",
              "      <th>BP</th>\n",
              "      <th>A1</th>\n",
              "      <th>F_A</th>\n",
              "      <th>F_U</th>\n",
              "      <th>A2</th>\n",
              "      <th>CHISQ</th>\n",
              "      <th>P</th>\n",
              "      <th>OR</th>\n",
              "    </tr>\n",
              "  </thead>\n",
              "  <tbody>\n",
              "    <tr>\n",
              "      <th>0</th>\n",
              "      <td>1</td>\n",
              "      <td>rs2073813</td>\n",
              "      <td>753541</td>\n",
              "      <td>A</td>\n",
              "      <td>0.0</td>\n",
              "      <td>0.16670</td>\n",
              "      <td>G</td>\n",
              "      <td>1.9050</td>\n",
              "      <td>0.16750</td>\n",
              "      <td>0.0000</td>\n",
              "    </tr>\n",
              "    <tr>\n",
              "      <th>1</th>\n",
              "      <td>1</td>\n",
              "      <td>rs12184325</td>\n",
              "      <td>754105</td>\n",
              "      <td>T</td>\n",
              "      <td>0.0</td>\n",
              "      <td>0.06667</td>\n",
              "      <td>C</td>\n",
              "      <td>0.7018</td>\n",
              "      <td>0.40220</td>\n",
              "      <td>0.0000</td>\n",
              "    </tr>\n",
              "    <tr>\n",
              "      <th>2</th>\n",
              "      <td>1</td>\n",
              "      <td>rs3131969</td>\n",
              "      <td>754182</td>\n",
              "      <td>A</td>\n",
              "      <td>0.0</td>\n",
              "      <td>0.26670</td>\n",
              "      <td>G</td>\n",
              "      <td>3.3330</td>\n",
              "      <td>0.06789</td>\n",
              "      <td>0.0000</td>\n",
              "    </tr>\n",
              "    <tr>\n",
              "      <th>3</th>\n",
              "      <td>1</td>\n",
              "      <td>rs4951929</td>\n",
              "      <td>757734</td>\n",
              "      <td>C</td>\n",
              "      <td>0.0</td>\n",
              "      <td>0.20000</td>\n",
              "      <td>T</td>\n",
              "      <td>2.3530</td>\n",
              "      <td>0.12500</td>\n",
              "      <td>0.0000</td>\n",
              "    </tr>\n",
              "    <tr>\n",
              "      <th>4</th>\n",
              "      <td>1</td>\n",
              "      <td>rs12562034</td>\n",
              "      <td>768448</td>\n",
              "      <td>A</td>\n",
              "      <td>0.1</td>\n",
              "      <td>0.33330</td>\n",
              "      <td>G</td>\n",
              "      <td>2.0480</td>\n",
              "      <td>0.15240</td>\n",
              "      <td>0.2222</td>\n",
              "    </tr>\n",
              "  </tbody>\n",
              "</table>\n",
              "</div>"
            ],
            "text/plain": [
              "   CHR         SNP      BP A1  F_A      F_U A2   CHISQ        P      OR\n",
              "0    1   rs2073813  753541  A  0.0  0.16670  G  1.9050  0.16750  0.0000\n",
              "1    1  rs12184325  754105  T  0.0  0.06667  C  0.7018  0.40220  0.0000\n",
              "2    1   rs3131969  754182  A  0.0  0.26670  G  3.3330  0.06789  0.0000\n",
              "3    1   rs4951929  757734  C  0.0  0.20000  T  2.3530  0.12500  0.0000\n",
              "4    1  rs12562034  768448  A  0.1  0.33330  G  2.0480  0.15240  0.2222"
            ]
          },
          "metadata": {
            "tags": []
          },
          "execution_count": 137
        }
      ]
    },
    {
      "cell_type": "markdown",
      "metadata": {
        "id": "l9P4YhITVHyS"
      },
      "source": [
        "* 7 - Você perceberá que abriu uma tabela com as primeiras linhas de seu arquivo `teste.txt` Importe novamente os pacotes analys e visuz do módulo bioinfokit"
      ]
    },
    {
      "cell_type": "code",
      "metadata": {
        "id": "ZVn97xYdRPY-"
      },
      "source": [
        "from bioinfokit import analys, visuz"
      ],
      "execution_count": null,
      "outputs": []
    },
    {
      "cell_type": "markdown",
      "metadata": {
        "id": "cI2GPgGSVYDX"
      },
      "source": [
        "* 8 - Hora de plotar o gráfico. Com as informações das colunas \"Cromossomo\" e \"P-value\" você poderá montar seu primeiro manhattan plot."
      ]
    },
    {
      "cell_type": "code",
      "metadata": {
        "id": "iPE14dB9Togy",
        "colab": {
          "base_uri": "https://localhost:8080/"
        },
        "outputId": "fd803cac-26ad-4dba-fc94-849d3c073cc1"
      },
      "source": [
        "visuz.marker.mhat(df=df, chr='CHR',pv='P',  show=True)"
      ],
      "execution_count": null,
      "outputs": [
        {
          "output_type": "display_data",
          "data": {
            "image/png": "[encoded data removed]",
            "text/plain": [
              "<Figure size 432x288 with 1 Axes>"
            ]
          },
          "metadata": {
            "tags": [],
            "needs_background": "light"
          }
        }
      ]
    }
  ]
}